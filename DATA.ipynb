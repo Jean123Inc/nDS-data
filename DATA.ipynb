{
 "cells": [
  {
   "cell_type": "markdown",
   "metadata": {},
   "source": [
    "## Data points graphics"
   ]
  },
  {
   "cell_type": "code",
   "execution_count": 99,
   "metadata": {},
   "outputs": [],
   "source": [
    "import numpy as np\n",
    "import matplotlib.pyplot as plt\n",
    "%matplotlib inline"
   ]
  },
  {
   "cell_type": "code",
   "execution_count": 183,
   "metadata": {},
   "outputs": [],
   "source": [
    "# We define the Havriliak Negami function parameters\n",
    "pi=np.pi\n",
    "tauHN=0.0013\n",
    "deps = 5.5\n",
    "b = 0.9\n",
    "c = 0.466\n",
    "einf = 3.0\n",
    "freqs = np.logspace(0,5,14000)\n",
    "omega=2*np.pi*freqs\n",
    "estar=einf + deps*(1+(1j*omega*tauHN)**b)**-c"
   ]
  },
  {
   "cell_type": "code",
   "execution_count": 202,
   "metadata": {},
   "outputs": [],
   "source": [
    "# We define the Apex Capacitance parameters\n",
    "e0=8.85E-12\n",
    "R=10E-9\n",
    "theta0=25*pi/180\n",
    "h=200E-9\n",
    "z=20E-9"
   ]
  },
  {
   "cell_type": "code",
   "execution_count": 203,
   "metadata": {},
   "outputs": [],
   "source": [
    "# We define the apex Derivative of the Capacitance \n",
    "def CAPDER(e0,R,theta0,h,z):\n",
    "    der=-2*pi*e0*R**2*(estar**2*(1-np.sin(theta0))/((h+estar*z)*(estar*R*(1-np.sin(theta0))+h+estar*z)))\n",
    "    return der"
   ]
  },
  {
   "cell_type": "code",
   "execution_count": 204,
   "metadata": {},
   "outputs": [],
   "source": [
    "# We define the Cantilever parameters\n",
    "W=25E-6\n",
    "e0=8.85E-12\n",
    "alpha=15*pi/180\n",
    "L=115E-6\n",
    "h=200E-9\n",
    "T=8E-6\n",
    "A=L*W\n",
    "f=2"
   ]
  },
  {
   "cell_type": "code",
   "execution_count": 205,
   "metadata": {},
   "outputs": [],
   "source": [
    "# We define the derivative of the Cantilever function\n",
    "def DERCANT(W,L,T,z,h):\n",
    "    gamma=(L*np.sin(alpha)/(T+z))+1\n",
    "    AA = W*e0*gamma*(T+z)**2\n",
    "    BB = (f*np.tan(alpha)/(W*e0*np.log(gamma)))+(h/(L*W*e0*estar))\n",
    "    CC = np.log(gamma)\n",
    "    dercantilever=-f*L*np.sin(alpha)*np.tan(alpha)/(AA*gamma*BB*BB*CC*CC)\n",
    "    return dercantilever"
   ]
  },
  {
   "cell_type": "code",
   "execution_count": 206,
   "metadata": {},
   "outputs": [],
   "source": [
    "der=CAPDER(e0,R,theta0,h,z)\n",
    "dercantilever=DERCANT(W,L,h,T,z)\n",
    "phase= np.arctan((der.imag+dercantilever.imag)/(-der.real-dercantilever.real))*180/pi"
   ]
  },
  {
   "cell_type": "code",
   "execution_count": 207,
   "metadata": {},
   "outputs": [
    {
     "data": {
      "text/plain": [
       "Text(0, 0.5, 'Phase (deg)')"
      ]
     },
     "execution_count": 207,
     "metadata": {},
     "output_type": "execute_result"
    },
    {
     "data": {
      "image/png": "[encoded data removed]",
      "text/plain": [
       "<Figure size 432x288 with 1 Axes>"
      ]
     },
     "metadata": {
      "needs_background": "light"
     },
     "output_type": "display_data"
    }
   ],
   "source": [
    "X , Y = [], []\n",
    "for line in open('Data-TFM-JPI.TXT'):\n",
    "  values = [float(s) for s in line.split()]\n",
    "  X.append(values[0])\n",
    "  Y.append(values[1])\n",
    "\n",
    "plt.semilogx(X, Y,'ro')\n",
    "plt.xlabel('f (Hz)')\n",
    "plt.ylabel('Phase (deg)')"
   ]
  },
  {
   "cell_type": "code",
   "execution_count": 208,
   "metadata": {
    "scrolled": false
   },
   "outputs": [
    {
     "data": {
      "text/plain": [
       "Text(0, 0.5, 'Phase (deg)')"
      ]
     },
     "execution_count": 208,
     "metadata": {},
     "output_type": "execute_result"
    },
    {
     "data": {
      "image/png": "[encoded data removed]",
      "text/plain": [
       "<Figure size 432x288 with 1 Axes>"
      ]
     },
     "metadata": {
      "needs_background": "light"
     },
     "output_type": "display_data"
    }
   ],
   "source": [
    "X, Y = [], []\n",
    "for line in open('Data-TFM-JPI.TXT', 'r'):\n",
    "  values = [float(s) for s in line.split()]\n",
    "  X.append(values[0])\n",
    "  Y.append(values[3])\n",
    "\n",
    "plt.semilogx(X, Y,'ro')\n",
    "plt.xlabel('f (Hz)')\n",
    "plt.ylabel('Phase (deg)')"
   ]
  },
  {
   "cell_type": "code",
   "execution_count": 209,
   "metadata": {},
   "outputs": [
    {
     "data": {
      "text/plain": [
       "Text(0, 0.5, 'Phase (deg)')"
      ]
     },
     "execution_count": 209,
     "metadata": {},
     "output_type": "execute_result"
    },
    {
     "data": {
      "image/png": "[encoded data removed]",
      "text/plain": [
       "<Figure size 432x288 with 1 Axes>"
      ]
     },
     "metadata": {
      "needs_background": "light"
     },
     "output_type": "display_data"
    }
   ],
   "source": [
    "X, Y = [], []\n",
    "for line in open('Data-TFM-JPI.TXT', 'r'):\n",
    "  values = [float(s) for s in line.split()]\n",
    "  X.append(values[0])\n",
    "  Y.append(values[5])\n",
    "\n",
    "plt.semilogx(X, Y,'ro')\n",
    "plt.xlabel('f (Hz)')\n",
    "plt.ylabel('Phase (deg)')"
   ]
  },
  {
   "cell_type": "code",
   "execution_count": 210,
   "metadata": {},
   "outputs": [
    {
     "data": {
      "text/plain": [
       "Text(0, 0.5, 'Delta Phase (deg)')"
      ]
     },
     "execution_count": 210,
     "metadata": {},
     "output_type": "execute_result"
    },
    {
     "data": {
      "image/png": "[encoded data removed]",
      "text/plain": [
       "<Figure size 432x288 with 1 Axes>"
      ]
     },
     "metadata": {
      "needs_background": "light"
     },
     "output_type": "display_data"
    }
   ],
   "source": [
    "X , Y = [], []\n",
    "for line in open('Data-TFM-JPI.TXT'):\n",
    "  values = [float(s) for s in line.split()]\n",
    "  X.append(values[0])\n",
    "  Y.append(values[1]-values[3])\n",
    "\n",
    "plt.semilogx(freqs,phase)\n",
    "plt.semilogx(X, Y,'ro')\n",
    "plt.ylim(0,2.1)\n",
    "plt.xlabel('f (Hz)')\n",
    "plt.ylabel('Delta Phase (deg)')"
   ]
  },
  {
   "cell_type": "code",
   "execution_count": 162,
   "metadata": {},
   "outputs": [
    {
     "data": {
      "text/plain": [
       "Text(0, 0.5, 'Delta Phase (deg)')"
      ]
     },
     "execution_count": 162,
     "metadata": {},
     "output_type": "execute_result"
    },
    {
     "data": {
      "image/png": "[encoded data removed]",
      "text/plain": [
       "<Figure size 432x288 with 1 Axes>"
      ]
     },
     "metadata": {
      "needs_background": "light"
     },
     "output_type": "display_data"
    }
   ],
   "source": [
    "X , Y = [], []\n",
    "for line in open('Data-TFM-JPI.TXT'):\n",
    "  values = [float(s) for s in line.split()]\n",
    "  X.append(values[0])\n",
    "  Y.append(values[1]-values[5])\n",
    "\n",
    "plt.semilogx(X, Y,'ro')\n",
    "plt.ylim(0,5.0)\n",
    "plt.xlabel('f (Hz)')\n",
    "plt.ylabel('Delta Phase (deg)')"
   ]
  },
  {
   "cell_type": "code",
   "execution_count": null,
   "metadata": {},
   "outputs": [],
   "source": []
  },
  {
   "cell_type": "code",
   "execution_count": null,
   "metadata": {},
   "outputs": [],
   "source": []
  }
 ],
 "metadata": {
  "kernelspec": {
   "display_name": "Python 3",
   "language": "python",
   "name": "python3"
  },
  "language_info": {
   "codemirror_mode": {
    "name": "ipython",
    "version": 3
   },
   "file_extension": ".py",
   "mimetype": "text/x-python",
   "name": "python",
   "nbconvert_exporter": "python",
   "pygments_lexer": "ipython3",
   "version": "3.7.4"
  }
 },
 "nbformat": 4,
 "nbformat_minor": 2
}
